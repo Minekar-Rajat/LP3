{
 "cells": [
  {
   "cell_type": "code",
   "execution_count": 28,
   "id": "5c85ed3e",
   "metadata": {},
   "outputs": [],
   "source": [
    "import numpy as np\n",
    "import pandas as pd\n",
    "import matplotlib.pyplot as plt"
   ]
  },
  {
   "cell_type": "code",
   "execution_count": 29,
   "id": "de91a0e5",
   "metadata": {},
   "outputs": [],
   "source": [
    "x = np.array([10,9,2,15,10,16,11,16])\n",
    "y = np.array([95,80,10,50,45,98,38,93])"
   ]
  },
  {
   "cell_type": "code",
   "execution_count": 30,
   "id": "05e2ab3b",
   "metadata": {},
   "outputs": [],
   "source": [
    "mx = np.mean(x)\n",
    "my = np.mean(y)"
   ]
  },
  {
   "cell_type": "code",
   "execution_count": 31,
   "id": "3960defd",
   "metadata": {},
   "outputs": [],
   "source": [
    "n = np.size(x)"
   ]
  },
  {
   "cell_type": "code",
   "execution_count": 32,
   "id": "14c7b1ac",
   "metadata": {},
   "outputs": [],
   "source": [
    "xy = np.sum(x*y) - n*mx*my\n",
    "xx = np.sum(x*x) - n*mx*mx"
   ]
  },
  {
   "cell_type": "code",
   "execution_count": 33,
   "id": "7ffc57c4",
   "metadata": {},
   "outputs": [],
   "source": [
    "b1 = xy/xx\n",
    "b0 = my - b1*mx"
   ]
  },
  {
   "cell_type": "code",
   "execution_count": 34,
   "id": "75bb39e0",
   "metadata": {},
   "outputs": [
    {
     "name": "stdout",
     "output_type": "stream",
     "text": [
      "12.584627964022893\n",
      "4.58789860997547\n"
     ]
    }
   ],
   "source": [
    "print(b0)\n",
    "print(b1)"
   ]
  },
  {
   "cell_type": "code",
   "execution_count": 35,
   "id": "1f408b11",
   "metadata": {},
   "outputs": [],
   "source": [
    "y_pred = b0 + b1*x\n"
   ]
  },
  {
   "cell_type": "code",
   "execution_count": 36,
   "id": "a4f4df9c",
   "metadata": {},
   "outputs": [
    {
     "data": {
      "image/png": "[encoded data removed]",
      "text/plain": [
       "<Figure size 432x288 with 1 Axes>"
      ]
     },
     "metadata": {
      "needs_background": "light"
     },
     "output_type": "display_data"
    }
   ],
   "source": [
    "plt.scatter(x,y)\n",
    "plt.xlabel('hours')\n",
    "plt.ylabel('risk score')\n",
    "plt.plot(x,y_pred,c='red')\n",
    "plt.show()\n"
   ]
  },
  {
   "cell_type": "code",
   "execution_count": null,
   "id": "34f67b0b",
   "metadata": {},
   "outputs": [],
   "source": []
  }
 ],
 "metadata": {
  "kernelspec": {
   "display_name": "Python 3 (ipykernel)",
   "language": "python",
   "name": "python3"
  },
  "language_info": {
   "codemirror_mode": {
    "name": "ipython",
    "version": 3
   },
   "file_extension": ".py",
   "mimetype": "text/x-python",
   "name": "python",
   "nbconvert_exporter": "python",
   "pygments_lexer": "ipython3",
   "version": "3.9.6"
  }
 },
 "nbformat": 4,
 "nbformat_minor": 5
}
