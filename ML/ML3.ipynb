{
 "cells": [
  {
   "cell_type": "code",
   "execution_count": 9,
   "id": "23de94be",
   "metadata": {},
   "outputs": [],
   "source": [
    "import numpy as np\n",
    "import pandas as pd\n",
    "import matplotlib.pyplot as plt\n",
    "import math"
   ]
  },
  {
   "cell_type": "code",
   "execution_count": 10,
   "id": "f4864c01",
   "metadata": {},
   "outputs": [],
   "source": [
    "points = [\n",
    "    [[2,4],[4,6],[4,2],[6,4]],\n",
    "    [[4,4],[6,2]]\n",
    "]\n",
    "\n",
    "k = 3"
   ]
  },
  {
   "cell_type": "code",
   "execution_count": 13,
   "id": "75a3b50d",
   "metadata": {},
   "outputs": [],
   "source": [
    "p = [6,6]\n",
    "\n",
    "distance = []\n",
    "\n",
    "\n",
    "for i in range(2):\n",
    "    for pairs in points[i]:\n",
    "        ed = math.sqrt( (pairs[0] - p[0])**2 + (pairs[1] - p[1])**2 )\n",
    "        distance.append((ed , i))\n",
    "        \n",
    "        \n",
    "        \n"
   ]
  },
  {
   "cell_type": "code",
   "execution_count": 14,
   "id": "1c3c8c6b",
   "metadata": {},
   "outputs": [],
   "source": [
    "distance = sorted(distance)[:k]"
   ]
  },
  {
   "cell_type": "code",
   "execution_count": 15,
   "id": "9e68311c",
   "metadata": {},
   "outputs": [],
   "source": [
    "f0 = 0\n",
    "f1 = 0"
   ]
  },
  {
   "cell_type": "code",
   "execution_count": 26,
   "id": "abca586b",
   "metadata": {},
   "outputs": [
    {
     "name": "stdout",
     "output_type": "stream",
     "text": [
      "Point(6,6) is of category 1\n"
     ]
    },
    {
     "data": {
      "image/png": "[encoded data removed]",
      "text/plain": [
       "<Figure size 432x288 with 1 Axes>"
      ]
     },
     "metadata": {
      "needs_background": "light"
     },
     "output_type": "display_data"
    }
   ],
   "source": [
    "for d in distance:\n",
    "    if d[1] == 1 :\n",
    "        f1 = f1 + 1\n",
    "    else:\n",
    "        f0 = f0 + 1\n",
    "        \n",
    "if(f0>f1):\n",
    "    print(\"Point(6,6) is of category 1\")\n",
    "    plt.scatter(p[0],p[1],c='blue')\n",
    "else:\n",
    "    print(\"Point(6,6) is of category 2\")\n",
    "    plt.scatter(p[0],p[1],c='green')\n",
    "    \n",
    "\n",
    "    \n",
    "x = []\n",
    "y = []\n",
    "\n",
    "n1 = len(points[0])\n",
    "n2 = len(points[1])\n",
    "\n",
    "for i in range(n1):\n",
    "    x.append(points[0][i][0])\n",
    "    y.append(points[0][i][1])\n",
    "    \n",
    "x2=[]\n",
    "y2=[]\n",
    "for i in range(n2):\n",
    "    x2.append(points[1][i][0])\n",
    "    y2.append(points[1][i][1])\n",
    "    \n",
    "    \n",
    "plt.scatter(x,y,c='blue')\n",
    "plt.scatter(x2,y2,c='green')\n",
    "plt.show()"
   ]
  },
  {
   "cell_type": "code",
   "execution_count": 17,
   "id": "89522a72",
   "metadata": {},
   "outputs": [],
   "source": [
    "fr0 = 0\n",
    "fr1 = 0"
   ]
  },
  {
   "cell_type": "code",
   "execution_count": 27,
   "id": "f3d27bbc",
   "metadata": {},
   "outputs": [
    {
     "name": "stdout",
     "output_type": "stream",
     "text": [
      "Weighted KNN : \n",
      "Point(6,6) is of category 2\n"
     ]
    },
    {
     "data": {
      "image/png": "[encoded data removed]",
      "text/plain": [
       "<Figure size 432x288 with 1 Axes>"
      ]
     },
     "metadata": {
      "needs_background": "light"
     },
     "output_type": "display_data"
    }
   ],
   "source": [
    "print(\"Weighted KNN : \")\n",
    "for d in distance:\n",
    "    if d[1] == 1 :\n",
    "        fr1 = fr1 + 1/d[0]\n",
    "    else:\n",
    "        f0 = fr0 + 1/d[0]\n",
    "        \n",
    "if(fr0>fr1):\n",
    "    print(\"Point(6,6) is of category 1\")\n",
    "    plt.scatter(p[0],p[1],c='blue')\n",
    "else:\n",
    "    print(\"Point(6,6) is of category 2\")\n",
    "    plt.scatter(p[0],p[1],c='green')\n",
    "    \n",
    "    \n",
    "    \n",
    "x = []\n",
    "y = []\n",
    "\n",
    "n1 = len(points[0])\n",
    "n2 = len(points[1])\n",
    "\n",
    "for i in range(n1):\n",
    "    x.append(points[0][i][0])\n",
    "    y.append(points[0][i][1])\n",
    "    \n",
    "x2=[]\n",
    "y2=[]\n",
    "for i in range(n2):\n",
    "    x2.append(points[1][i][0])\n",
    "    y2.append(points[1][i][1])\n",
    "    \n",
    "    \n",
    "plt.scatter(x,y,c='blue')\n",
    "plt.scatter(x2,y2,c='green')\n",
    "plt.show()\n",
    "    "
   ]
  },
  {
   "cell_type": "code",
   "execution_count": null,
   "id": "1ba8bbfc",
   "metadata": {},
   "outputs": [],
   "source": []
  }
 ],
 "metadata": {
  "kernelspec": {
   "display_name": "Python 3 (ipykernel)",
   "language": "python",
   "name": "python3"
  },
  "language_info": {
   "codemirror_mode": {
    "name": "ipython",
    "version": 3
   },
   "file_extension": ".py",
   "mimetype": "text/x-python",
   "name": "python",
   "nbconvert_exporter": "python",
   "pygments_lexer": "ipython3",
   "version": "3.9.6"
  }
 },
 "nbformat": 4,
 "nbformat_minor": 5
}
