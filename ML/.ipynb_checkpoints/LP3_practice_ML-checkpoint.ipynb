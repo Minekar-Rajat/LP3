{
 "cells": [
  {
   "cell_type": "code",
   "execution_count": 2,
   "metadata": {
    "colab": {
     "base_uri": "https://localhost:8080/"
    },
    "id": "ydSAWl286c8u",
    "outputId": "0f9b85c8-0535-4e45-8db7-83aa99731e26"
   },
   "outputs": [
    {
     "name": "stdout",
     "output_type": "stream",
     "text": [
      "IF Age < 21 IF Gender Male THEN Buys No \n",
      "IF Age < 21 IF Gender Female THEN Buys Yes \n",
      "IF Age 21-35 THEN Buys Yes \n",
      "IF Age >35 IF Marital Status Single THEN Buys Yes \n",
      "IF Age >35 IF Marital Status Married THEN Buys No \n",
      "Yes\n"
     ]
    }
   ],
   "source": [
    "import numpy as np\n",
    "import pandas as pd\n",
    "\n",
    "class Node:\n",
    "  def __init__(self,name,condition):\n",
    "    self.name = name\n",
    "    self.condition = condition\n",
    "    self.children = []\n",
    "  \n",
    "  def getId(self):\n",
    "    return str(self.name) + \" \" + str(self.condition) + \" \"\n",
    "\n",
    "class DecisionTree:\n",
    "  def __init__(self,dataset,target_class):\n",
    "    self.dataset = dataset\n",
    "    self.root = Node(\"Root \",\"has no condition\")\n",
    "    self.target_class = target_class\n",
    "    self.max_gain_classes = []\n",
    "    self.rules=[]\n",
    "  \n",
    "  def get_entropy(self,column_name,dataset,p,n):\n",
    "    values_dict = dataset[column_name].unique()\n",
    "    entropy = 0\n",
    "    for key in list(values_dict):\n",
    "      df = dataset[dataset[column_name]==key]\n",
    "      p_df,n_df,IG = self.get_info_gain(list(df[self.target_class]))\n",
    "      entropy+=((p_df + n_df)/(p+n))*IG\n",
    "    \n",
    "    return entropy\n",
    "  \n",
    "  def get_info_gain(self,column):\n",
    "    categories = {}\n",
    "    for item in column:\n",
    "      categories[item] = 1 if item not in categories else categories[item] + 1\n",
    "    p = categories[\"Yes\"] if \"Yes\" in categories else 0 \n",
    "    n = categories[\"No\"] if \"No\" in categories else 0\n",
    "    p_ratio = p/(p+n)\n",
    "    n_ratio = n/(p+n)\n",
    "    if(p_ratio==0):\n",
    "      return p,n,-(n_ratio*np.log2(n_ratio))\n",
    "    if(n_ratio==0):\n",
    "      return p,n,-(p_ratio*np.log2(p_ratio))\n",
    "    return p,n,-((p_ratio*np.log2(p_ratio)) + (n_ratio*np.log2(n_ratio)))\n",
    "  \n",
    "  def build_tree(self):\n",
    "    self.root = self.build(self.dataset,None)\n",
    "\n",
    "  def build(self,dataset,root):\n",
    "    if root is None:\n",
    "      root = self.root\n",
    "    p,n,ig_target = self.get_info_gain(list(dataset[self.target_class]))\n",
    "    if(ig_target==0):\n",
    "      root.children.append(Node(self.target_class,\"Yes\" if n==0 else \"No\"))\n",
    "      return root\n",
    "    \n",
    "    max_gain_class_index=0\n",
    "    max_gain = 0\n",
    "    columns = dataset.columns\n",
    "    for index in range(0,len(columns)):\n",
    "      if columns[index] == self.target_class:\n",
    "        continue\n",
    "      entropy = self.get_entropy(columns[index],dataset,p,n)\n",
    "      gain = ig_target - entropy\n",
    "      if gain > max_gain:\n",
    "        max_gain = gain\n",
    "        max_gain_class_index = index\n",
    "\n",
    "    self.max_gain_classes.append(columns[max_gain_class_index])\n",
    "    categories = dataset[columns[max_gain_class_index]].unique()\n",
    "\n",
    "    for key in categories:\n",
    "      df = pd.DataFrame(dataset[dataset[columns[max_gain_class_index]]==key],columns = columns)\n",
    "      df = df.drop(columns[max_gain_class_index],axis=1)\n",
    "      df = df.reset_index(drop=True)\n",
    "      child = self.build(df,Node(columns[max_gain_class_index],key))\n",
    "      root.children.append(child)\n",
    "    \n",
    "    return root\n",
    "  \n",
    "  #BFS traversal\n",
    "  def predict(self,query):\n",
    "    columns = self.dataset.columns\n",
    "    for index in range(0,len(query)) :\n",
    "      if columns[index] not in self.max_gain_classes:\n",
    "        query.remove(query[index])\n",
    "    node = self.root\n",
    "    index=0\n",
    "    bfs_q = [node]\n",
    "    while len(bfs_q) > 0:\n",
    "      node = bfs_q[0]\n",
    "      for child in node.children:\n",
    "        if child.name == self.target_class:\n",
    "          return child.condition\n",
    "        if query[index] == child.condition:\n",
    "          bfs_q.append(child)\n",
    "          index+=1\n",
    "      bfs_q.remove(node)\n",
    "    return None\n",
    "\n",
    "  def print_tree(self):\n",
    "    self.buildRules(self.root,\"\")\n",
    "    for rule in self.rules:\n",
    "      if rule!='None':\n",
    "        print(rule)\n",
    "\n",
    "  # DFS traversal\n",
    "  def buildRules(self,root,rule_string):\n",
    "    if(len(root.children)==0):\n",
    "      self.rules.append(rule_string)\n",
    "      return\n",
    "    for node in root.children:\n",
    "      if node is None:\n",
    "        continue\n",
    "      if(node.name==self.target_class):\n",
    "        self.buildRules(node,rule_string + \"THEN \" + node.getId())\n",
    "      else :\n",
    "        self.buildRules(node,rule_string + \"IF \" + node.getId())\n",
    "\n",
    "\n",
    "dataset = pd.read_csv('data.csv')\n",
    "dataset = dataset.drop('ID',axis=1)\n",
    "dt = DecisionTree(dataset,\"Buys\")\n",
    "dt.build_tree()\n",
    "dt.print_tree()\n",
    "print(dt.predict(['< 21', 'Low', 'Female', 'Married']))"
   ]
  },
  {
   "cell_type": "code",
   "execution_count": null,
   "metadata": {
    "colab": {
     "base_uri": "https://localhost:8080/",
     "height": 265
    },
    "id": "GAhaxOmxRWyq",
    "outputId": "e382f365-c4e3-419b-f379-34851a967967"
   },
   "outputs": [
    {
     "data": {
      "image/png": "[encoded data removed]",
      "text/plain": [
       "<Figure size 432x288 with 1 Axes>"
      ]
     },
     "metadata": {
      "needs_background": "light"
     },
     "output_type": "display_data"
    }
   ],
   "source": [
    "import matplotlib.pyplot as plt\n",
    "\n",
    "class LinearRegression:\n",
    "  def __init__(self,datapoints):\n",
    "    self.X = []\n",
    "    self.Y = []\n",
    "    for item in datapoints:\n",
    "      self.X.append(item[0])\n",
    "      self.Y.append(item[1])\n",
    "    self.b1 = 0\n",
    "    self.b0 = 0\n",
    "  \n",
    "  def train(self):\n",
    "    X_mean = sum(self.X)/len(self.X)\n",
    "    Y_mean = sum(self.Y)/len(self.Y)\n",
    "\n",
    "    b1_num = 0\n",
    "    b1_deno = 0\n",
    "    for index in range(0,len(self.X)):\n",
    "      b1_num+=((self.X[index]-X_mean)*(self.Y[index]-Y_mean))\n",
    "      b1_deno+=((self.X[index]-X_mean)*(self.X[index]-X_mean))\n",
    "    \n",
    "    self.b1 = b1_num/b1_deno\n",
    "    self.b0 = (Y_mean-self.b1*X_mean)\n",
    "  \n",
    "  def plot(self):\n",
    "    data = list(zip(self.X,self.Y))\n",
    "    plt.scatter(self.X,self.Y,color='red',s=30)\n",
    "    Y_pred = []\n",
    "    for x,y in data:\n",
    "      Y_pred.append(self.b1*x+self.b0)\n",
    "    plt.plot(self.X,Y_pred,color='blue')\n",
    "    plt.show()\n",
    "\n",
    "datapoints = [[10,95],[9,80],[2,10],[15,50],[10,45],[16,98],[11,38],[16,93]]\n",
    "\n",
    "lr = LinearRegression(datapoints)\n",
    "lr.train()\n",
    "lr.plot()"
   ]
  },
  {
   "cell_type": "code",
   "execution_count": null,
   "metadata": {
    "colab": {
     "base_uri": "https://localhost:8080/",
     "height": 265
    },
    "id": "9_Ea8XWtlAov",
    "outputId": "79c1fbb4-a2fc-4c2c-dc15-1e0213a0f2a9"
   },
   "outputs": [
    {
     "data": {
      "image/png": "[encoded data removed]",
      "text/plain": [
       "<Figure size 432x288 with 1 Axes>"
      ]
     },
     "metadata": {
      "needs_background": "light"
     },
     "output_type": "display_data"
    }
   ],
   "source": [
    "dataset = [\n",
    "  (0.1,0.6),\n",
    "  (0.15,0.71),\n",
    "  (0.08,0.9),\n",
    "  (0.16, 0.85),\n",
    "  (0.2,0.3),\n",
    "  (0.25,0.5),\n",
    "  (0.24,0.1),\n",
    "  (0.3,0.2)\n",
    "]\n",
    "centers = [\n",
    "  (0.1,0.6),\n",
    "  (0.3,0.2)\n",
    "]\n",
    "\n",
    "def mean(labels):\n",
    "  return sum(labels)/len(labels)\n",
    "\n",
    "def euclidean_dist(point1,point2):\n",
    "  return pow((pow(point2[1]-point1[1],2) + pow(point2[0]-point1[0],2)),0.5)\n",
    "\n",
    "def KMeans(dataset,centroids):\n",
    "  centroids = centroids\n",
    "  for i in range(0,10):\n",
    "    centers={}\n",
    "    for point in dataset:\n",
    "      min_dist = 1000000\n",
    "      min_dist_cen = None\n",
    "      for index in range(0,len(centroids)):\n",
    "        dist = euclidean_dist(point,centroids[index])\n",
    "        if dist < min_dist:\n",
    "          min_dist = dist\n",
    "          min_dist_cen = index\n",
    "\n",
    "      if min_dist_cen not in centers:\n",
    "        centers[min_dist_cen] = [[point[0]],[point[1]]]\n",
    "      else:\n",
    "        centers[min_dist_cen][0].append(point[0])\n",
    "        centers[min_dist_cen][1].append(point[1])\n",
    "\n",
    "    centroids=[]\n",
    "    for center in list(centers.keys()):\n",
    "      centroids.append((mean(centers[center][0]),mean(centers[center][1])))\n",
    "  \n",
    "  return centroids,centers\n",
    "\n",
    "centroids,centers = KMeans(dataset,centers)\n",
    "plt.scatter(centers[0][0],centers[0][1],color='red')\n",
    "plt.scatter(centers[1][0],centers[1][1],color='blue')\n",
    "plt.scatter(centroids[0][0],centroids[0][1],color='black')\n",
    "plt.scatter(centroids[1][0],centroids[1][1],color='black')\n",
    "plt.show()"
   ]
  },
  {
   "cell_type": "code",
   "execution_count": null,
   "metadata": {
    "colab": {
     "base_uri": "https://localhost:8080/"
    },
    "id": "cQWwY05hqwSG",
    "outputId": "761d9e17-f9cc-44a0-9937-7fc9e7e62c9b"
   },
   "outputs": [
    {
     "name": "stdout",
     "output_type": "stream",
     "text": [
      "1\n"
     ]
    }
   ],
   "source": [
    "from collections import Counter\n",
    "import math\n",
    "\n",
    "clf_data = [\n",
    "    ((4,2),1),\n",
    "    ((2,4),1),\n",
    "    ((6,4),1),\n",
    "    ((4,6),1),\n",
    "    ((6,2),0),\n",
    "    ((4,4),0)\n",
    "]\n",
    "\n",
    "clf_query = [(6,6)]\n",
    "\n",
    "def mode(labels):\n",
    "  return Counter(labels).most_common(1)[0][0]\n",
    "\n",
    "def euclidean_dist(point1,point2):\n",
    "  return pow((pow(point2[1]-point1[1],2) + pow(point2[0]-point1[0],2)),0.5)\n",
    "\n",
    "def K_nearest(k):\n",
    "  distances = []\n",
    "  for index,point in enumerate(clf_data):\n",
    "    dist = euclidean_dist(clf_query[0],point[0])\n",
    "    distances.append((dist,index))\n",
    "  distances = sorted(distances)\n",
    "  k_nearest = distances[:k]\n",
    "  target2weight = {}\n",
    "  c = 0.0001\n",
    "  for distance,target in  k_nearest:\n",
    "    weight = 1/(distance + c)\n",
    "    if target in target2weight.keys():\n",
    "      target2weight[target] = target2weight[target] + weight\n",
    "    else:\n",
    "      target2weight[target] = weight\n",
    "\n",
    "  # Prediction is the target value with maximum weighted sum\n",
    "  prediction = -1\n",
    "  max_weighted_sum = -1\n",
    "  for target in target2weight:\n",
    "    if target2weight[target] > max_weighted_sum:\n",
    "      prediction = clf_data[target][-1]\n",
    "      max_weighted_sum = target2weight[target]\n",
    "\n",
    "\n",
    "\n",
    "  # 7. If regression (choice_fn = mean), return the average of the K labels\n",
    "  # 8. If classification (choice_fn = mode), return the mode of the K labels\n",
    "  return k_nearest , prediction\n",
    "  \n",
    "print(K_nearest(3)[-1])\n",
    "#print(mode([clf_data[index][-1] for index in range(len(clf_data))]))"
   ]
  },
  {
   "cell_type": "code",
   "execution_count": null,
   "metadata": {
    "id": "mYY6_pEqyZFz"
   },
   "outputs": [],
   "source": []
  }
 ],
 "metadata": {
  "colab": {
   "name": "LP3-practice_ML.ipynb",
   "provenance": []
  },
  "kernelspec": {
   "display_name": "Python 3 (ipykernel)",
   "language": "python",
   "name": "python3"
  },
  "language_info": {
   "codemirror_mode": {
    "name": "ipython",
    "version": 3
   },
   "file_extension": ".py",
   "mimetype": "text/x-python",
   "name": "python",
   "nbconvert_exporter": "python",
   "pygments_lexer": "ipython3",
   "version": "3.9.6"
  }
 },
 "nbformat": 4,
 "nbformat_minor": 1
}
