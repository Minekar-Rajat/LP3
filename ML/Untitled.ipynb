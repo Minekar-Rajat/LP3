{
 "cells": [
  {
   "cell_type": "code",
   "execution_count": 10,
   "id": "337fb098",
   "metadata": {},
   "outputs": [],
   "source": [
    "import numpy as np\n",
    "import pandas as pd\n",
    "import matplotlib.pyplot as plt\n",
    "import math"
   ]
  },
  {
   "cell_type": "code",
   "execution_count": 11,
   "id": "a94ac6b8",
   "metadata": {},
   "outputs": [],
   "source": [
    "def calc_centroid(c):\n",
    "    x = 0\n",
    "    y = 0\n",
    "    n = len(c)\n",
    "    for i in range(n):\n",
    "        x = x + c[i][0]\n",
    "        y = y + c[i][1]\n",
    "        \n",
    "    \n",
    "    x = x/n\n",
    "    y = y/n\n",
    "    res = [x,y]\n",
    "    return res"
   ]
  },
  {
   "cell_type": "code",
   "execution_count": 12,
   "id": "b58c7d8e",
   "metadata": {},
   "outputs": [],
   "source": [
    "points = [[0.1,0.6] , [0.15,0.71],[0.08,0.9],[0.16,0.85] , [0.2,0.3] , [0.25,0.5] , [0.24,0.1] , [0.3,0.2] ]"
   ]
  },
  {
   "cell_type": "code",
   "execution_count": 13,
   "id": "969f2900",
   "metadata": {},
   "outputs": [],
   "source": [
    "c1 = [points[0]]\n",
    "c2 = [points[7]]\n",
    "\n",
    "m1 = points[0]\n",
    "m2 = points[7]\n",
    "\n",
    "for i in range(1,7):\n",
    "    d1 = math.sqrt( (m1[0] - points[i][0])**2 + (m1[1] - points[i][1])**2 )\n",
    "    d2 = math.sqrt( (m2[0] - points[i][0])**2 + (m2[1] - points[i][1])**2 )\n",
    "    if(d1<d2):\n",
    "        c1.append(points[i])\n",
    "        m1 = calc_centroid(c1)\n",
    "    else:\n",
    "        c2.append(points[i])\n",
    "        m2 = calc_centroid(c2)\n",
    "        \n"
   ]
  },
  {
   "cell_type": "code",
   "execution_count": 15,
   "id": "6a33b407",
   "metadata": {},
   "outputs": [
    {
     "name": "stdout",
     "output_type": "stream",
     "text": [
      "Point 6 (0.25,0.5) is in Cluster 2\n",
      "Population of Cluster 2 :  4\n",
      "Centroids :  [0.1225, 0.765] [0.2475, 0.275]\n"
     ]
    }
   ],
   "source": [
    "pt = [0.25,0.5]\n",
    "\n",
    "f = False\n",
    "\n",
    "for i in range(len(c1)):\n",
    "    if(c1[i] == pt):\n",
    "        f = True\n",
    "        break\n",
    "    \n",
    "    \n",
    "if(f == True):\n",
    "    print(\"Point 6 (0.25,0.5) is in Cluster 1\")\n",
    "else:\n",
    "    print(\"Point 6 (0.25,0.5) is in Cluster 2\")\n",
    "    \n",
    "print(\"Population of Cluster 2 : \" ,len(c2) )\n",
    "\n",
    "print(\"Centroids : \" , m1 , m2)\n",
    "    "
   ]
  },
  {
   "cell_type": "code",
   "execution_count": 16,
   "id": "4b74b8ed",
   "metadata": {},
   "outputs": [
    {
     "data": {
      "image/png": "[encoded data removed]",
      "text/plain": [
       "<Figure size 432x288 with 1 Axes>"
      ]
     },
     "metadata": {
      "needs_background": "light"
     },
     "output_type": "display_data"
    }
   ],
   "source": [
    "x1 = []\n",
    "y1 = []\n",
    "\n",
    "for i in range(len(c1)):\n",
    "    x1.append(c1[i][0])\n",
    "    y1.append(c1[i][1])\n",
    "    \n",
    "x2 = []\n",
    "y2 = []\n",
    "\n",
    "for i in range(len(c2)):\n",
    "    x2.append(c2[i][0])\n",
    "    y2.append(c2[i][1])\n",
    "\n",
    "\n",
    "plt.scatter(x1,y1,c='blue')\n",
    "plt.scatter(x2,y2,c='green')\n",
    "plt.scatter(m1[0],m1[1],c = 'red')\n",
    "plt.scatter(m2[0],m2[1],c = 'red')\n",
    "plt.xlabel('x')\n",
    "plt.ylabel('y')\n",
    "plt.show()\n"
   ]
  },
  {
   "cell_type": "code",
   "execution_count": null,
   "id": "2705073d",
   "metadata": {},
   "outputs": [],
   "source": []
  }
 ],
 "metadata": {
  "kernelspec": {
   "display_name": "Python 3 (ipykernel)",
   "language": "python",
   "name": "python3"
  },
  "language_info": {
   "codemirror_mode": {
    "name": "ipython",
    "version": 3
   },
   "file_extension": ".py",
   "mimetype": "text/x-python",
   "name": "python",
   "nbconvert_exporter": "python",
   "pygments_lexer": "ipython3",
   "version": "3.9.6"
  }
 },
 "nbformat": 4,
 "nbformat_minor": 5
}
