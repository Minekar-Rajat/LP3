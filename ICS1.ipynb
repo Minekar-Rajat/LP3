{
  "cells": [
    {
      "cell_type": "markdown",
      "metadata": {
        "id": "VUjq3ZNGGZPB"
      },
      "source": [
        "## Assignment 1\n",
        "Simple Data Encryption Standard (S-DES)\n",
        "\n",
        "[Reference](https://www.youtube.com/watch?v=mS2VC7vbbNc&t=543s)"
      ]
    },
    {
      "cell_type": "code",
      "execution_count": 1,
      "metadata": {
        "id": "Kys3gT37D4Qw"
      },
      "outputs": [],
      "source": [
        "import random"
      ]
    },
    {
      "cell_type": "markdown",
      "metadata": {
        "id": "A2SAalGymI7x"
      },
      "source": [
        "### Constants initialisation"
      ]
    },
    {
      "cell_type": "code",
      "execution_count": 2,
      "metadata": {
        "id": "IWN1YjqsiLux"
      },
      "outputs": [],
      "source": [
        "P10 = [] # Random permutation of size 10\n",
        "P8 = [] # Sample 8 elemets from P10\n",
        "EP = [] # Shuffle two permutations of size 4\n",
        "IP = [] # # Random permutation of size 8\n",
        "IP_INV = [] # To be calculated from IP IP_INV[IP[i] - 1] = i + 1"
      ]
    },
    {
      "cell_type": "code",
      "execution_count": 3,
      "metadata": {
        "id": "ZcuHZhezjcb1"
      },
      "outputs": [],
      "source": [
        "def gen_random_permutation(n):\n",
        "  out = [i+1 for i in range(n)]\n",
        "  random.shuffle(out)\n",
        "  return out;"
      ]
    },
    {
      "cell_type": "code",
      "execution_count": 4,
      "metadata": {
        "colab": {
          "base_uri": "https://localhost:8080/"
        },
        "id": "IwtQbI7dfKc4",
        "outputId": "7e73a22f-718b-4d62-c5fe-4dfb16ad11f3"
      },
      "outputs": [
        {
          "name": "stdout",
          "output_type": "stream",
          "text": [
            "IP: [4, 3, 8, 7, 6, 5, 1, 2]\n",
            "IP_INV: [7, 8, 2, 1, 6, 5, 4, 3]\n"
          ]
        }
      ],
      "source": [
        "IP = gen_random_permutation(8)\n",
        "IP_INV = [1]*8\n",
        "for i in range(len(IP)):\n",
        "  IP_INV[IP[i]-1] = i+1\n",
        "print(\"IP:\", IP)\n",
        "print(\"IP_INV:\", IP_INV)"
      ]
    },
    {
      "cell_type": "code",
      "execution_count": 5,
      "metadata": {
        "colab": {
          "base_uri": "https://localhost:8080/"
        },
        "id": "xlfXJOehR1pB",
        "outputId": "82d486f9-38d0-4ff2-a574-446e433579c8"
      },
      "outputs": [
        {
          "name": "stdout",
          "output_type": "stream",
          "text": [
            "EP: [3, 1, 4, 2, 3, 1, 4, 2]\n"
          ]
        }
      ],
      "source": [
        "EP = gen_random_permutation(4)*2\n",
        "print(\"EP:\", EP)"
      ]
    },
    {
      "cell_type": "code",
      "execution_count": 6,
      "metadata": {
        "colab": {
          "base_uri": "https://localhost:8080/"
        },
        "id": "pXrI9s9BFDkF",
        "outputId": "01ce5140-aac8-4675-8745-db8d5253704a"
      },
      "outputs": [
        {
          "name": "stdout",
          "output_type": "stream",
          "text": [
            "P10: [9, 6, 5, 10, 7, 8, 3, 2, 1, 4]\n"
          ]
        }
      ],
      "source": [
        "P10 = gen_random_permutation(10)\n",
        "print(\"P10:\", P10)"
      ]
    },
    {
      "cell_type": "code",
      "execution_count": 7,
      "metadata": {
        "colab": {
          "base_uri": "https://localhost:8080/"
        },
        "id": "HrkwXxtnHein",
        "outputId": "69a2b1d0-0861-4a1a-c48f-cbbe0f99c4a5"
      },
      "outputs": [
        {
          "name": "stdout",
          "output_type": "stream",
          "text": [
            "P8: [8, 2, 7, 3, 4, 9, 1, 10]\n"
          ]
        }
      ],
      "source": [
        "P8 = random.sample(gen_random_permutation(10), 8)\n",
        "print(\"P8:\", P8)"
      ]
    },
    {
      "cell_type": "code",
      "execution_count": 8,
      "metadata": {
        "id": "OdLZaC5eUjyZ"
      },
      "outputs": [],
      "source": [
        "S0 = [\n",
        "    [1, 0, 3, 2],\n",
        "    [3, 2, 1, 0],\n",
        "    [0, 2, 1, 3],\n",
        "    [3, 1, 3, 2]\n",
        "]\n",
        "S1 = [\n",
        "    [0, 1, 2, 3],\n",
        "    [2, 0, 1, 3],\n",
        "    [3, 0, 1, 0],\n",
        "    [2, 1, 0, 3]\n",
        "]"
      ]
    },
    {
      "cell_type": "markdown",
      "metadata": {
        "id": "8KU9hN9imNsl"
      },
      "source": [
        "### Helper functions"
      ]
    },
    {
      "cell_type": "code",
      "execution_count": 9,
      "metadata": {
        "id": "iNnUF8wXYUyd"
      },
      "outputs": [],
      "source": [
        "def bin_to_dec(x):\n",
        "  return int(x, 2)\n",
        "def dec_to_bin(x):\n",
        "  return bin(x).replace(\"0b\",\"\")"
      ]
    },
    {
      "cell_type": "code",
      "execution_count": 10,
      "metadata": {
        "id": "v053WC4wD6CR"
      },
      "outputs": [],
      "source": [
        "def left_circular_shift(x, shifts=1):\n",
        "  shifts = shifts % len(x)\n",
        "  return x[shifts:] + x[:shifts]"
      ]
    },
    {
      "cell_type": "code",
      "execution_count": 11,
      "metadata": {
        "id": "Zyl-3_3EG-Wc"
      },
      "outputs": [],
      "source": [
        "def permutate(key, perm):\n",
        "  ret = \"\"\n",
        "  for k in perm:\n",
        "    ret += key[k-1]\n",
        "  return ret"
      ]
    },
    {
      "cell_type": "code",
      "execution_count": 12,
      "metadata": {
        "id": "SqzkiAwOFBr8"
      },
      "outputs": [],
      "source": [
        "def split_str(key):\n",
        "  half = len(key)//2\n",
        "  key1 = key[:half]\n",
        "  key2 = key[half:]\n",
        "  return key1, key2"
      ]
    },
    {
      "cell_type": "code",
      "execution_count": 13,
      "metadata": {
        "id": "FCl29xCqTL9H"
      },
      "outputs": [],
      "source": [
        "def xor(a, b):\n",
        "  ret = \"\"\n",
        "  for i in range(len(a)):\n",
        "    if a[i] == b[i]: ret += \"0\"\n",
        "    else: ret += \"1\"\n",
        "  return ret"
      ]
    },
    {
      "cell_type": "markdown",
      "metadata": {
        "id": "cPz4oj7cmSIs"
      },
      "source": [
        "### Algorithm necessary functions"
      ]
    },
    {
      "cell_type": "code",
      "execution_count": 14,
      "metadata": {
        "id": "5Wul8STEMilN"
      },
      "outputs": [],
      "source": [
        "def gen_subkeys(key):\n",
        "  n_key = permutate(key, P10)\n",
        "\n",
        "  left_key, right_key = split_str(n_key)\n",
        "\n",
        "  left_key = left_circular_shift(left_key, 1)\n",
        "  right_key = left_circular_shift(right_key, 1)\n",
        "\n",
        "  k1 = permutate(left_key + right_key, P8)\n",
        "\n",
        "  left_key = left_circular_shift(left_key, 2)\n",
        "  right_key = left_circular_shift(right_key, 2)\n",
        "\n",
        "  k2 = permutate(left_key + right_key, P8)\n",
        "\n",
        "  return k1, k2"
      ]
    },
    {
      "cell_type": "code",
      "execution_count": 15,
      "metadata": {
        "id": "4QOxVZpWV-qU"
      },
      "outputs": [],
      "source": [
        "def s_box(text, s):\n",
        "  r = text[0] + text[3]\n",
        "  c = text[1] + text[2]\n",
        "\n",
        "  r = bin_to_dec(r)\n",
        "  c = bin_to_dec(c)\n",
        "  out = s[r][c]\n",
        "  out = dec_to_bin(out)\n",
        "  while len(out) < 2:\n",
        "    out = \"0\" + out\n",
        "  return out"
      ]
    },
    {
      "cell_type": "code",
      "execution_count": 16,
      "metadata": {
        "id": "fRUlCbUkTDFf"
      },
      "outputs": [],
      "source": [
        "def function(left, right, subkey):\n",
        "  text = right\n",
        "  text = permutate(text, EP)\n",
        "  text = xor(text, subkey)\n",
        "  text_left, text_right = split_str(text)\n",
        "  text = s_box(text_left, S0) + s_box(text_right, S1)\n",
        "  text = xor(text, left)\n",
        "  return text, right"
      ]
    },
    {
      "cell_type": "code",
      "execution_count": 17,
      "metadata": {
        "id": "JdaAgo1nJ6oc"
      },
      "outputs": [],
      "source": [
        "def encryption(plaintext, key):\n",
        "  k1, k2 = gen_subkeys(key)\n",
        "\n",
        "  ciphertext = permutate(plaintext, IP)\n",
        "\n",
        "  left, right = split_str(ciphertext)\n",
        "  left, right = function(left, right, k1)\n",
        "\n",
        "  left, right = right, left\n",
        "\n",
        "  left, right = function(left, right, k2)\n",
        "\n",
        "  ciphertext = permutate(left + right, IP_INV)\n",
        "\n",
        "  return ciphertext"
      ]
    },
    {
      "cell_type": "code",
      "execution_count": 18,
      "metadata": {
        "id": "6uIilfXoYB9M"
      },
      "outputs": [],
      "source": [
        "def decryption(ciphertext, key):\n",
        "  k1, k2 = gen_subkeys(key)\n",
        "\n",
        "  plaintext = permutate(ciphertext, IP)\n",
        "\n",
        "  left, right = split_str(plaintext)\n",
        "  left, right = function(left, right, k2)\n",
        "\n",
        "  left, right = right, left\n",
        "\n",
        "  left, right = function(left, right, k1)\n",
        "\n",
        "  plaintext = permutate(left + right, IP_INV)\n",
        "\n",
        "  return plaintext"
      ]
    },
    {
      "cell_type": "markdown",
      "metadata": {
        "id": "S951W3yFmXEN"
      },
      "source": [
        "### Testing"
      ]
    },
    {
      "cell_type": "code",
      "execution_count": 19,
      "metadata": {
        "id": "u0KyzT3lHPUm"
      },
      "outputs": [],
      "source": [
        "key = \"1010001011\"\n",
        "plaintext = \"10001010\""
      ]
    },
    {
      "cell_type": "code",
      "execution_count": 20,
      "metadata": {
        "id": "FP8MLsoBdO8t"
      },
      "outputs": [],
      "source": [
        "c = encryption(plaintext, key)\n",
        "p = decryption(c, key)"
      ]
    },
    {
      "cell_type": "code",
      "execution_count": 21,
      "metadata": {
        "id": "goeACHRCedl7"
      },
      "outputs": [],
      "source": [
        "assert(p==plaintext)"
      ]
    }
  ],
  "metadata": {
    "colab": {
      "collapsed_sections": [
        "Q-WhzdHNtLrL",
        "L5G4pdns9qtS",
        "PVEENFtWvPGp",
        "A2SAalGymI7x",
        "8KU9hN9imNsl",
        "7kt0z0jlmlGo",
        "IIZDYMSKpvU5"
      ],
      "name": "LP3.ipynb",
      "provenance": []
    },
    "kernelspec": {
      "display_name": "Python 3",
      "name": "python3"
    },
    "language_info": {
      "codemirror_mode": {
        "name": "ipython",
        "version": 3
      },
      "file_extension": ".py",
      "mimetype": "text/x-python",
      "name": "python",
      "nbconvert_exporter": "python",
      "pygments_lexer": "ipython3",
      "version": "3.10.1"
    }
  },
  "nbformat": 4,
  "nbformat_minor": 0
}
